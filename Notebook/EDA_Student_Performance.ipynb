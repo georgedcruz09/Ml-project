{
 "cells": [
  {
   "cell_type": "markdown",
   "id": "4701f908-4a12-4e8b-8128-18cdd7ec3d8a",
   "metadata": {},
   "source": [
    "# Student Performace Indicator \n",
    "## Life Cycle of the Project \n",
    "### .Understanding then problem \n",
    "### .Data Collection\n",
    "### .Data checks to perform\n",
    "### .Exploratory analysis\n",
    "### .Data Preprocessing \n",
    "### .Model Training \n",
    "### .choose best model\n"
   ]
  },
  {
   "cell_type": "markdown",
   "id": "ee7e3273-c4c1-4d2c-b2f7-026f665a64d5",
   "metadata": {},
   "source": [
    "### 1) Understanding the problem \n",
    "This project understands how the students performance (test score) is affected by the other variable like gender ethnicity parental level of education,lunch and test preparation course\n"
   ]
  },
  {
   "cell_type": "markdown",
   "id": "4a66794c-eaed-473d-b2d3-9805b7ba12ec",
   "metadata": {},
   "source": [
    "### 2) Data Collection\n",
    ". Data Source : https://www.kaggle.com/code/spscientist/student-performance-in-exams/input "
   ]
  },
  {
   "cell_type": "markdown",
   "id": "6d1d3572-365f-47bd-9b3f-b77aca6399bc",
   "metadata": {},
   "source": [
    "### Import required packages and data "
   ]
  },
  {
   "cell_type": "code",
   "execution_count": 10,
   "id": "c02e0ec3-51ff-4b14-90f8-ca80bb1b1dbd",
   "metadata": {},
   "outputs": [],
   "source": [
    "import pandas as pd\n",
    "import numpy as np\n",
    "import seaborn as sns\n",
    "import matplotlib.pyplot as plt\n",
    "%matplotlib inline "
   ]
  },
  {
   "cell_type": "code",
   "execution_count": 13,
   "id": "a6b72578-5006-47bb-9e53-f223bb77cb8d",
   "metadata": {},
   "outputs": [],
   "source": [
    "df= pd.read_csv('Data/Students.csv')"
   ]
  },
  {
   "cell_type": "code",
   "execution_count": 15,
   "id": "993b2cf4-284b-491a-b6a5-70ac3ac2d131",
   "metadata": {},
   "outputs": [
    {
     "data": {
      "text/html": [
       "<div>\n",
       "<style scoped>\n",
       "    .dataframe tbody tr th:only-of-type {\n",
       "        vertical-align: middle;\n",
       "    }\n",
       "\n",
       "    .dataframe tbody tr th {\n",
       "        vertical-align: top;\n",
       "    }\n",
       "\n",
       "    .dataframe thead th {\n",
       "        text-align: right;\n",
       "    }\n",
       "</style>\n",
       "<table border=\"1\" class=\"dataframe\">\n",
       "  <thead>\n",
       "    <tr style=\"text-align: right;\">\n",
       "      <th></th>\n",
       "      <th>gender</th>\n",
       "      <th>race/ethnicity</th>\n",
       "      <th>parental level of education</th>\n",
       "      <th>lunch</th>\n",
       "      <th>test preparation course</th>\n",
       "      <th>math score</th>\n",
       "      <th>reading score</th>\n",
       "      <th>writing score</th>\n",
       "    </tr>\n",
       "  </thead>\n",
       "  <tbody>\n",
       "    <tr>\n",
       "      <th>0</th>\n",
       "      <td>female</td>\n",
       "      <td>group B</td>\n",
       "      <td>bachelor's degree</td>\n",
       "      <td>standard</td>\n",
       "      <td>none</td>\n",
       "      <td>72</td>\n",
       "      <td>72</td>\n",
       "      <td>74</td>\n",
       "    </tr>\n",
       "    <tr>\n",
       "      <th>1</th>\n",
       "      <td>female</td>\n",
       "      <td>group C</td>\n",
       "      <td>some college</td>\n",
       "      <td>standard</td>\n",
       "      <td>completed</td>\n",
       "      <td>69</td>\n",
       "      <td>90</td>\n",
       "      <td>88</td>\n",
       "    </tr>\n",
       "    <tr>\n",
       "      <th>2</th>\n",
       "      <td>female</td>\n",
       "      <td>group B</td>\n",
       "      <td>master's degree</td>\n",
       "      <td>standard</td>\n",
       "      <td>none</td>\n",
       "      <td>90</td>\n",
       "      <td>95</td>\n",
       "      <td>93</td>\n",
       "    </tr>\n",
       "    <tr>\n",
       "      <th>3</th>\n",
       "      <td>male</td>\n",
       "      <td>group A</td>\n",
       "      <td>associate's degree</td>\n",
       "      <td>free/reduced</td>\n",
       "      <td>none</td>\n",
       "      <td>47</td>\n",
       "      <td>57</td>\n",
       "      <td>44</td>\n",
       "    </tr>\n",
       "    <tr>\n",
       "      <th>4</th>\n",
       "      <td>male</td>\n",
       "      <td>group C</td>\n",
       "      <td>some college</td>\n",
       "      <td>standard</td>\n",
       "      <td>none</td>\n",
       "      <td>76</td>\n",
       "      <td>78</td>\n",
       "      <td>75</td>\n",
       "    </tr>\n",
       "  </tbody>\n",
       "</table>\n",
       "</div>"
      ],
      "text/plain": [
       "   gender race/ethnicity parental level of education         lunch  \\\n",
       "0  female        group B           bachelor's degree      standard   \n",
       "1  female        group C                some college      standard   \n",
       "2  female        group B             master's degree      standard   \n",
       "3    male        group A          associate's degree  free/reduced   \n",
       "4    male        group C                some college      standard   \n",
       "\n",
       "  test preparation course  math score  reading score  writing score  \n",
       "0                    none          72             72             74  \n",
       "1               completed          69             90             88  \n",
       "2                    none          90             95             93  \n",
       "3                    none          47             57             44  \n",
       "4                    none          76             78             75  "
      ]
     },
     "execution_count": 15,
     "metadata": {},
     "output_type": "execute_result"
    }
   ],
   "source": [
    "df.head()"
   ]
  },
  {
   "cell_type": "code",
   "execution_count": 17,
   "id": "08479ba7-097f-4fc7-b738-9db867ccf5fb",
   "metadata": {},
   "outputs": [
    {
     "data": {
      "text/plain": [
       "(1000, 8)"
      ]
     },
     "execution_count": 17,
     "metadata": {},
     "output_type": "execute_result"
    }
   ],
   "source": [
    "df.shape"
   ]
  },
  {
   "cell_type": "markdown",
   "id": "29d91304-8cae-4b97-bf77-ec201497730e",
   "metadata": {},
   "source": [
    "### Dataset Information\n",
    ". gender : sex of students -> (Male/female);\n",
    "\n",
    ".race/ethnicity : ethnicity of students -> (Group A, B,C, D,E);\n",
    "\n",
    ".parental level of education : parents' final education ->(bachelor's degree,some college,master's degree,associate's degree,high school);\n",
    "\n",
    ".lunch : having lunch before test (standard or free/reduced);\n",
    "\n",
    ".test preparation course : complete or not complete before test;\n",
    "\n",
    ".maths score\n",
    "\n",
    ".reading score\n",
    "\n",
    ".writing score\n",
    "\r\n"
   ]
  },
  {
   "cell_type": "code",
   "execution_count": null,
   "id": "ea7a509a-1e59-4739-8b44-0411dd3b1683",
   "metadata": {},
   "outputs": [],
   "source": []
  }
 ],
 "metadata": {
  "kernelspec": {
   "display_name": "Python 3 (ipykernel)",
   "language": "python",
   "name": "python3"
  },
  "language_info": {
   "codemirror_mode": {
    "name": "ipython",
    "version": 3
   },
   "file_extension": ".py",
   "mimetype": "text/x-python",
   "name": "python",
   "nbconvert_exporter": "python",
   "pygments_lexer": "ipython3",
   "version": "3.8.18"
  }
 },
 "nbformat": 4,
 "nbformat_minor": 5
}
